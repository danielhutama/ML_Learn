{
 "cells": [
  {
   "cell_type": "code",
   "execution_count": 2,
   "metadata": {},
   "outputs": [],
   "source": [
    "import numpy as np\n",
    "import os\n",
    "import matplotlib.pyplot as plt"
   ]
  },
  {
   "cell_type": "code",
   "execution_count": 3,
   "metadata": {},
   "outputs": [],
   "source": [
    "def sigmoid(x):\n",
    "    return 1/(1+np.exp(-x))\n",
    "\n",
    "def enet(targ, finout):\n",
    "    # input numpy arrays\n",
    "    return (0.5)*(targ-finout)**2\n",
    "\n",
    "def etot(targ, finout):\n",
    "    return sum(enet(targ, finout))\n",
    "\n",
    "def dsig(x):\n",
    "    return sigmoid(x)*(1-sigmoid(x))\n",
    "\n",
    "def nodedelt(target, out, prevout):\n",
    "    return (-(target-out))*out*(1-out)\n",
    "\n",
    "def dtot_dw(target, out, prevout):\n",
    "    return nodedelt(target, out, prevout)*prevout\n",
    "\n",
    "def bckprop(initvals, target, out, prevout, learnrate):\n",
    "    return initvals - learnrate*dtot_dw(target, out, prevout)\n"
   ]
  },
  {
   "cell_type": "code",
   "execution_count": 4,
   "metadata": {},
   "outputs": [
    {
     "data": {
      "image/png": "[encoded data removed]",
      "text/plain": [
       "<IPython.core.display.Image object>"
      ]
     },
     "execution_count": 4,
     "metadata": {},
     "output_type": "execute_result"
    }
   ],
   "source": [
    "# neural network with 2 input nodes, 2 hidden neurons, 2 output nodes.\n",
    "\n",
    "from IPython.display import Image\n",
    "Image(filename='neural_network_Ex.png') "
   ]
  },
  {
   "cell_type": "code",
   "execution_count": 73,
   "metadata": {},
   "outputs": [],
   "source": [
    "# inputs\n",
    "i1 = 0.05; i2 = 0.10\n",
    "\n",
    "# connection weights\n",
    "w1 = 0.15; w2 = 0.20; w3 = 0.25; w4 = 0.30; w5 = 0.40; w6 = 0.45; w7 = 0.50; w8 = 0.55\n",
    "\n",
    "#bias weights\n",
    "b1 = 0.35; b2 = 0.60\n",
    "\n",
    "# desired outputs\n",
    "o1 = 0.01; o2 = 0.99\n",
    "\n"
   ]
  },
  {
   "cell_type": "code",
   "execution_count": 74,
   "metadata": {},
   "outputs": [],
   "source": [
    "W1b = np.array([[w1, w2, b1], [w3, w4, b1]])\n",
    "W2b = np.array([[w5, w6, b2], [w7, w8, b2]])\n",
    "\n",
    "W1 = np.array([W1b[0][:-1], W1b[1][:-1]])\n",
    "W2 = np.array([W2b[0][:-1], W2b[1][:-1]])\n",
    "\n",
    "X = np.array([i1, i2])\n",
    "Xb = np.array([i1, i2, 1])\n",
    "T = np.array([o1, o2])\n",
    "\n",
    "\n",
    "    \n",
    "\n",
    "# first layer calculation\n",
    "H1_net = np.matmul(W1b,Xb) \n",
    "# H1_net contains layer 1 node values\n",
    "\n",
    "H1_out = sigmoid(H1_net)\n",
    "# H1_out contains layer 1 node values after passing through sigmoid\n",
    "\n",
    "H1_out_bias = np.append(H1_out, 1)\n",
    "# append 1 for bias node\n",
    "                   \n",
    "O1_net = np.matmul(W2b, H1_out_bias)\n",
    "# O1_net contains output layer node values\n",
    "\n",
    "O1_out = sigmoid(O1_net)\n",
    "# O1_out contains output layer values after passing through sigmoid"
   ]
  },
  {
   "cell_type": "code",
   "execution_count": 44,
   "metadata": {},
   "outputs": [],
   "source": [
    "def think_1hlayer(biased_in, biased_w1, biased_w2, target, repititions):\n",
    "    err_list = []\n",
    "    w2 = np.array([biased_w2[0][:-1], biased_w2[1][:-1]])\n",
    "    w1 = np.array([biased_w1[0][:-1], biased_w1[1][:-1]])\n",
    "    \n",
    "    h1_net = np.matmul(biased_w1, biased_in) # layer 1 nodes\n",
    "    h1_out = sigmoid(h1_net) # layer 1 node values after sigmoid\n",
    "    h1_out_bias = np.append(h1_out, 1) # append 1 for bias node\n",
    "    o1_net = np.matmul(biased_w2, h1_out_bias)\n",
    "    o1_out = sigmoid(o1_net)\n",
    "    err_list.append(etot(target, o1_out))\n",
    "    \n",
    "    for i in range(repititions):\n",
    "        w2 = bckprop(w2, target, o1_out, h1_out, 0.5)\n",
    "        w1 = bckprop(w1, w2, h1_net, biased_in[:-1], 0.5)\n",
    "        \n",
    "        w2b = np.array([np.append(w2[0], 1), np.append(w2[1], 1)])\n",
    "        w1b = np.array([np.append(w1[0], 1), np.append(w1[1], 1)])\n",
    "        \n",
    "        h1_net = np.matmul(w1b, biased_in)\n",
    "        h1_out = sigmoid(h1_net)\n",
    "        h1_out_bias = np.append(h1_out, 1)\n",
    "        o1_net = np.matmul(w2b, h1_out_bias)\n",
    "        o1_out = sigmoid(o1_net)\n",
    "        err_list.append(etot(target, o1_out))\n",
    "    return err_list, w1, w2\n",
    "    "
   ]
  },
  {
   "cell_type": "code",
   "execution_count": 86,
   "metadata": {},
   "outputs": [
    {
     "data": {
      "text/plain": [
       "array([1.10590597, 1.2249214 ])"
      ]
     },
     "execution_count": 86,
     "metadata": {},
     "output_type": "execute_result"
    }
   ],
   "source": [
    "O1_net"
   ]
  },
  {
   "cell_type": "code",
   "execution_count": 75,
   "metadata": {},
   "outputs": [
    {
     "data": {
      "text/plain": [
       "array([0.75136507, 0.77292847])"
      ]
     },
     "execution_count": 75,
     "metadata": {},
     "output_type": "execute_result"
    }
   ],
   "source": [
    "O1_out"
   ]
  },
  {
   "cell_type": "code",
   "execution_count": null,
   "metadata": {},
   "outputs": [],
   "source": [
    "def enet(targ, finout):\n",
    "    # input numpy arrays\n",
    "    return (0.5)*(targ-finout)**2\n",
    "\n",
    "def etot(targ, finout):\n",
    "    return sum(enet(targ, finout))\n",
    "\n",
    "def dsig(x):\n",
    "    return sigmoid(x)*(1-sigmoid(x))\n",
    "\n",
    "def nodedelt(target, out, prevout):\n",
    "    return (-(target-out))*out*(1-out)\n",
    "\n",
    "def dtot_dw(target, out, prevout):\n",
    "    return nodedelt(target, out, prevout)*prevout\n",
    "\n",
    "def bckprop(initvals, target, out, prevout, learnrate):\n",
    "    return initvals - learnrate*dtot_dw(target, out, prevout)"
   ]
  },
  {
   "cell_type": "code",
   "execution_count": 72,
   "metadata": {},
   "outputs": [
    {
     "data": {
      "text/plain": [
       "array([ 0.08252491, -0.02328727])"
      ]
     },
     "execution_count": 72,
     "metadata": {},
     "output_type": "execute_result"
    }
   ],
   "source": [
    "dtot_dw(T, O1_out, H1_out)"
   ]
  },
  {
   "cell_type": "code",
   "execution_count": 76,
   "metadata": {},
   "outputs": [
    {
     "data": {
      "text/plain": [
       "array([0.75136507, 0.77292847])"
      ]
     },
     "execution_count": 76,
     "metadata": {},
     "output_type": "execute_result"
    }
   ],
   "source": [
    "O1_out #good"
   ]
  },
  {
   "cell_type": "code",
   "execution_count": 77,
   "metadata": {},
   "outputs": [
    {
     "data": {
      "text/plain": [
       "array([0.27481108, 0.02356003])"
      ]
     },
     "execution_count": 77,
     "metadata": {},
     "output_type": "execute_result"
    }
   ],
   "source": [
    "enet(T, O1_out)"
   ]
  },
  {
   "cell_type": "code",
   "execution_count": 78,
   "metadata": {},
   "outputs": [
    {
     "data": {
      "text/plain": [
       "array([ 0.08216704, -0.02274024])"
      ]
     },
     "execution_count": 78,
     "metadata": {},
     "output_type": "execute_result"
    }
   ],
   "source": [
    "dtot_dw(T, O1_out, H1_out)"
   ]
  },
  {
   "cell_type": "code",
   "execution_count": 80,
   "metadata": {},
   "outputs": [
    {
     "data": {
      "text/plain": [
       "0.35891647971788465"
      ]
     },
     "execution_count": 80,
     "metadata": {},
     "output_type": "execute_result"
    }
   ],
   "source": [
    "w5-0.5*dtot_dw(T, O1_out, H1_out)[0]"
   ]
  },
  {
   "cell_type": "code",
   "execution_count": 85,
   "metadata": {},
   "outputs": [
    {
     "data": {
      "text/plain": [
       "0.5113701211079891"
      ]
     },
     "execution_count": 85,
     "metadata": {},
     "output_type": "execute_result"
    }
   ],
   "source": [
    "w7-0.5*dtot_dw(T, O1_out, H1_out)[1]"
   ]
  },
  {
   "cell_type": "code",
   "execution_count": 87,
   "metadata": {
    "scrolled": true
   },
   "outputs": [
    {
     "data": {
      "text/plain": [
       "array([0.01, 0.99])"
      ]
     },
     "execution_count": 87,
     "metadata": {},
     "output_type": "execute_result"
    }
   ],
   "source": [
    "T"
   ]
  },
  {
   "cell_type": "code",
   "execution_count": 64,
   "metadata": {},
   "outputs": [],
   "source": [
    "result = think_1hlayer(Xb, W1b, W2b, T, 10000)\n",
    "errs = result[0]"
   ]
  },
  {
   "cell_type": "code",
   "execution_count": 65,
   "metadata": {},
   "outputs": [
    {
     "data": {
      "image/png": "[encoded data removed]",
      "text/plain": [
       "<Figure size 864x288 with 1 Axes>"
      ]
     },
     "metadata": {
      "needs_background": "light"
     },
     "output_type": "display_data"
    }
   ],
   "source": [
    "l1,l2, font, s1, s2, padding = 3.0, 10.0, 25.0, 12.0, 4.0, 10.0\n",
    "fig=plt.figure('Energy', figsize=(s1,s2))\n",
    "plt.rcParams.update({'font.size': font})\n",
    "ax= fig.add_subplot(111)\n",
    "ax.ticklabel_format(useOffset = False)\n",
    "for axis in ['top', 'bottom','left', 'right']:\n",
    "    ax.spines[axis].set_linewidth(l1)\n",
    "    ax.xaxis.set_tick_params(width=l1, length=l2, pad=padding)\n",
    "    ax.yaxis.set_tick_params(width=l1, length=l2, pad=padding)\n",
    "\n",
    "plt.grid()\n",
    "plt.plot(errs)\n",
    "plt.show()"
   ]
  },
  {
   "cell_type": "code",
   "execution_count": null,
   "metadata": {},
   "outputs": [],
   "source": []
  },
  {
   "cell_type": "code",
   "execution_count": 63,
   "metadata": {},
   "outputs": [
    {
     "data": {
      "text/plain": [
       "array([[-13.2728117,  11.7707861],\n",
       "       [-13.1728117,  11.8707861]])"
      ]
     },
     "execution_count": 63,
     "metadata": {},
     "output_type": "execute_result"
    }
   ],
   "source": [
    "result[2]"
   ]
  },
  {
   "cell_type": "code",
   "execution_count": null,
   "metadata": {},
   "outputs": [],
   "source": []
  },
  {
   "cell_type": "code",
   "execution_count": null,
   "metadata": {},
   "outputs": [],
   "source": []
  },
  {
   "cell_type": "code",
   "execution_count": 8,
   "metadata": {},
   "outputs": [
    {
     "data": {
      "text/plain": [
       "array([[0.35891648, 0.46137012],\n",
       "       [0.45891648, 0.56137012]])"
      ]
     },
     "execution_count": 8,
     "metadata": {},
     "output_type": "execute_result"
    }
   ],
   "source": [
    "W2n = bckprop(W2, T, O1_out, H1_out, 0.5)\n",
    "W2n"
   ]
  },
  {
   "cell_type": "code",
   "execution_count": 9,
   "metadata": {},
   "outputs": [
    {
     "data": {
      "text/plain": [
       "array([[0.14989082, 0.20082108],\n",
       "       [0.25047831, 0.3020133 ]])"
      ]
     },
     "execution_count": 9,
     "metadata": {},
     "output_type": "execute_result"
    }
   ],
   "source": [
    "W1n = bckprop(W1, W2n, H1_net, X[:-1], 0.5)\n",
    "W1n"
   ]
  },
  {
   "cell_type": "code",
   "execution_count": 10,
   "metadata": {},
   "outputs": [],
   "source": [
    "# inputs\n",
    "i1 = 0.05; i2 = 0.10\n",
    "\n",
    "# connection weights\n",
    "w1 = W1n[0][0]; w2 = W1n[0][1]; w3 = W1n[1][0]; w4 = W1n[1][1]; \n",
    "w5 = W2n[0][0]; w6 = W2n[0][1]; w7 = W2n[1][0]; w8 = W2n[1][1];\n",
    "\n",
    "#bias weights\n",
    "b1 = 0.35; b2 = 0.60\n",
    "\n",
    "# desired outputs\n",
    "o1 = 0.01; o2 = 0.99\n",
    "\n",
    "W1b = np.array([[w1, w2, b1], [w3, w4, b1]])\n",
    "W2b = np.array([[w5, w6, b2], [w7, w8, b2]])\n",
    "\n",
    "W1 = np.array([W1b[0][:-1], W1b[1][:-1]])\n",
    "W2 = np.array([W2b[0][:-1], W2b[1][:-1]])\n",
    "\n",
    "X = np.array([i1, i2, 1])\n",
    "T = np.array([o1, o2])\n",
    "\n",
    "# first layer calculation\n",
    "H1_net = np.matmul(W1b,X) \n",
    "# H1_net contains layer 1 node values\n",
    "\n",
    "H1_out = sigmoid(H1_net)\n",
    "# H1_out contains layer 1 node values after passing through sigmoid\n",
    "\n",
    "H1_out_bias = np.append(H1_out, 1)\n",
    "# append 1 for bias node\n",
    "                   \n",
    "O1_net = np.matmul(W2b, H1_out_bias)\n",
    "# O1_net contains output layer node values\n",
    "\n",
    "O1_out = sigmoid(O1_net)\n",
    "# O1_out contains output layer values after passing through sigmoid"
   ]
  },
  {
   "cell_type": "code",
   "execution_count": 11,
   "metadata": {},
   "outputs": [
    {
     "data": {
      "text/plain": [
       "array([[0.31765403, 0.47301376],\n",
       "       [0.41765403, 0.57301376]])"
      ]
     },
     "execution_count": 11,
     "metadata": {},
     "output_type": "execute_result"
    }
   ],
   "source": [
    "W2n = bckprop(W2, T, O1_out, H1_out, 0.5)\n",
    "W2n"
   ]
  },
  {
   "cell_type": "code",
   "execution_count": 12,
   "metadata": {},
   "outputs": [
    {
     "data": {
      "text/plain": [
       "array([[0.14953876, 0.20177849],\n",
       "       [0.25071378, 0.30416317]])"
      ]
     },
     "execution_count": 12,
     "metadata": {},
     "output_type": "execute_result"
    }
   ],
   "source": [
    "W1n = bckprop(W1, W2n, H1_net, X[:-1], 0.5)\n",
    "W1n"
   ]
  },
  {
   "cell_type": "code",
   "execution_count": 13,
   "metadata": {},
   "outputs": [
    {
     "data": {
      "text/plain": [
       "0.29661097098257955"
      ]
     },
     "execution_count": 13,
     "metadata": {},
     "output_type": "execute_result"
    }
   ],
   "source": [
    "etot1 = etot(T, O1_out)\n",
    "etot1"
   ]
  },
  {
   "cell_type": "code",
   "execution_count": null,
   "metadata": {},
   "outputs": [],
   "source": []
  },
  {
   "cell_type": "code",
   "execution_count": null,
   "metadata": {},
   "outputs": [],
   "source": []
  },
  {
   "cell_type": "code",
   "execution_count": null,
   "metadata": {},
   "outputs": [],
   "source": []
  },
  {
   "cell_type": "code",
   "execution_count": 4,
   "metadata": {},
   "outputs": [
    {
     "data": {
      "image/png": "[encoded data removed]",
      "text/plain": [
       "<Figure size 864x288 with 1 Axes>"
      ]
     },
     "metadata": {
      "needs_background": "light"
     },
     "output_type": "display_data"
    }
   ],
   "source": [
    "x = np.linspace(-5, 5)\n",
    "\n",
    "\n",
    "l1,l2, font, s1, s2, padding = 3.0, 10.0, 25.0, 12.0, 4.0, 10.0\n",
    "fig=plt.figure('Energy', figsize=(s1,s2))\n",
    "plt.rcParams.update({'font.size': font})\n",
    "ax= fig.add_subplot(111)\n",
    "ax.ticklabel_format(useOffset = False)\n",
    "for axis in ['top', 'bottom','left', 'right']:\n",
    "    ax.spines[axis].set_linewidth(l1)\n",
    "    ax.xaxis.set_tick_params(width=l1, length=l2, pad=padding)\n",
    "    ax.yaxis.set_tick_params(width=l1, length=l2, pad=padding)\n",
    "\n",
    "plt.grid()\n",
    "plt.plot(x, sigmoid(x))\n",
    "plt.show()"
   ]
  },
  {
   "cell_type": "code",
   "execution_count": null,
   "metadata": {},
   "outputs": [],
   "source": []
  },
  {
   "cell_type": "code",
   "execution_count": null,
   "metadata": {},
   "outputs": [],
   "source": []
  }
 ],
 "metadata": {
  "kernelspec": {
   "display_name": "Python 3",
   "language": "python",
   "name": "python3"
  },
  "language_info": {
   "codemirror_mode": {
    "name": "ipython",
    "version": 3
   },
   "file_extension": ".py",
   "mimetype": "text/x-python",
   "name": "python",
   "nbconvert_exporter": "python",
   "pygments_lexer": "ipython3",
   "version": "3.8.5"
  }
 },
 "nbformat": 4,
 "nbformat_minor": 4
}
