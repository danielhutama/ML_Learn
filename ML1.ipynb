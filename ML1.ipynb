{
 "cells": [
  {
   "cell_type": "code",
   "execution_count": 1,
   "metadata": {},
   "outputs": [],
   "source": [
    "import numpy as np\n",
    "import os\n",
    "import matplotlib.pyplot as plt\n",
    "\n",
    "dt = np.dtype(str)\n",
    "data = np.genfromtxt(r'C:\\Users\\danhu\\Documents\\GitHub\\ML\\ML_Learn\\Data\\train.csv', dtype = dt, delimiter = ',',usecols = list(range(12)))"
   ]
  },
  {
   "cell_type": "code",
   "execution_count": 2,
   "metadata": {
    "scrolled": false
   },
   "outputs": [
    {
     "data": {
      "text/plain": [
       "array(['PassengerId', 'Survived', 'Pclass', 'Name', 'Sex', 'Age', 'SibSp',\n",
       "       'Parch', 'Ticket', 'Fare', 'Cabin', 'Embarked'], dtype='<U62')"
      ]
     },
     "execution_count": 2,
     "metadata": {},
     "output_type": "execute_result"
    }
   ],
   "source": [
    "data[0]"
   ]
  },
  {
   "cell_type": "code",
   "execution_count": 3,
   "metadata": {},
   "outputs": [],
   "source": [
    "pid = data[1:,0].astype(int)\n",
    "surv = data[1:,1].astype(int)\n",
    "pclass = data[1:,2]\n",
    "# name = data[1:,3]\n",
    "sex = data[1:,5].astype(str)\n",
    "age = data[1:,6]\n",
    "sibsp = data[1:,7].astype(int)\n",
    "parch = data[1:,8]\n",
    "ticket = data[1:,8]\n",
    "fare = data[1:,10]\n",
    "cabin = data[1:,11]\n",
    "# emb = data[1:,11]"
   ]
  },
  {
   "cell_type": "code",
   "execution_count": 4,
   "metadata": {},
   "outputs": [],
   "source": [
    "# process data and store in dict\n",
    "\n",
    "bsex = np.zeros(len(sex))\n",
    "for i in range(len(sex)):\n",
    "    if sex[i] == 'male':\n",
    "        bsex[i] = 1\n",
    "    else:\n",
    "        bsex[i] = 0\n",
    "\n",
    "fage = np.zeros(len(age))\n",
    "for i in range(len(age)):\n",
    "    if type(age[i]) == np.str_:\n",
    "        try:\n",
    "            fage[i] = float(age[i])\n",
    "        except:\n",
    "            fage[i] = None\n",
    "    else: \n",
    "        fage[i] = None\n",
    "    \n",
    "        \n",
    "mydict = {'surv':surv, 'pclass':pclass, 'sex':bsex, 'age':age}"
   ]
  },
  {
   "cell_type": "code",
   "execution_count": null,
   "metadata": {},
   "outputs": [],
   "source": [
    "\n",
    "        "
   ]
  },
  {
   "cell_type": "code",
   "execution_count": null,
   "metadata": {},
   "outputs": [],
   "source": []
  },
  {
   "cell_type": "code",
   "execution_count": null,
   "metadata": {},
   "outputs": [],
   "source": []
  }
 ],
 "metadata": {
  "kernelspec": {
   "display_name": "Python 3",
   "language": "python",
   "name": "python3"
  },
  "language_info": {
   "codemirror_mode": {
    "name": "ipython",
    "version": 3
   },
   "file_extension": ".py",
   "mimetype": "text/x-python",
   "name": "python",
   "nbconvert_exporter": "python",
   "pygments_lexer": "ipython3",
   "version": "3.8.5"
  }
 },
 "nbformat": 4,
 "nbformat_minor": 4
}
